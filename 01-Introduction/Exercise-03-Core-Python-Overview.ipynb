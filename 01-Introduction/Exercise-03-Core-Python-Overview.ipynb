{
  "cells": [
    {
      "cell_type": "markdown",
      "metadata": {},
      "source": [
        "## Core Python Overview: Dice Duel Tournament (60-Minute Practice)\n",
        "\n",
        "Welcome! In this fast-paced practice, you'll build a mini \"Dice Duel Tournament\" to review core Python concepts end-to-end. Write your own code in new code cells under each step.\n",
        "\n",
        "- What you'll practice:\n",
        "  - Scalars and expressions (ints, floats, bools), variables\n",
        "  - Core data structures (lists, tuples, sets, dicts)\n",
        "  - Control flow (`if/elif/else`)\n",
        "  - Loops (`for`, `while`) and comprehensions\n",
        "  - Functions (parameters, returns, docstrings, scope)\n",
        "  - Strings (formatting, slicing) and a touch of regex\n",
        "  - Errors and exception handling\n",
        "  - Iterators and generators (light)\n",
        "  - Light statistics (mean, max, counts)\n",
        "\n",
        "- Theme: Dice Duel Tournament\n",
        "  - Players roll two dice per round. Points are awarded by rules you implement.\n",
        "  - You will track scores, compute summary stats, and print friendly results.\n",
        "\n",
        "Guidelines\n",
        "- Create a new code cell after each step and implement the instructions.\n",
        "- Keep each function small and test it immediately.\n",
        "- Prefer readable names and clear prints over clever one-liners.\n",
        "- Aim to complete this in about 60 minutes.\n"
      ]
    },
    {
      "cell_type": "markdown",
      "metadata": {},
      "source": [
        "### Step 0 — Game Overview and Scoring Rules\n",
        "\n",
        "You are building a two-player Dice Duel Tournament.\n",
        "\n",
        "- Two players roll two six-sided dice per round.\n",
        "- A match contains R rounds. A tournament contains M matches.\n",
        "- Scoring per roll (bonuses stack):\n",
        "  - Base: sum of the two dice\n",
        "  - Doubles bonus: +5 if both dice show the same value\n",
        "  - Lucky seven bonus: +10 if the sum is exactly 7\n",
        "  - Six bonus: +2 if any die shows a 6\n",
        "\n",
        "Instructions\n",
        "1) Add a new code cell and type a short multiline string describing the game rules in your own words. Print it.\n",
        "2) Create two variables for the two player names (strings). Keep them simple (e.g., \"Alice\", \"Bob\").\n",
        "3) Create two integer variables: `ROUNDS_PER_MATCH` and `MATCHES_PER_TOURNAMENT`. Choose small numbers (e.g., 5 rounds, 3 matches) so you can test quickly.\n"
      ]
    },
    {
      "cell_type": "code",
      "execution_count": null,
      "metadata": {},
      "outputs": [],
      "source": [
        "# Your code here\n"
      ]
    },
    {
      "cell_type": "markdown",
      "metadata": {},
      "source": [
        "### Step 1 — Dice Utilities (Scalars, Tuples, Randomness)\n",
        "\n",
        "Instructions\n",
        "1) Import the necessary pieces from the standard library to generate pseudo-random dice rolls.\n",
        "2) Write a function `roll_two_dice()` that returns a tuple of two integers between 1 and 6 inclusive.\n",
        "3) Test your function by calling it a few times and printing the results.\n",
        "4) Create a helper `is_double(d1, d2)` that returns `True` if both dice match.\n",
        "5) Create `contains_six(d1, d2)` that returns `True` if either die is 6.\n"
      ]
    },
    {
      "cell_type": "code",
      "execution_count": null,
      "metadata": {},
      "outputs": [],
      "source": [
        "# Your code here\n"
      ]
    },
    {
      "cell_type": "markdown",
      "metadata": {},
      "source": [
        "### Step 2 — Scoring Function (Control Flow, Booleans, Docstrings)\n",
        "\n",
        "Instructions\n",
        "1) Write a function `score_roll(d1, d2)` that computes the score using the rules:\n",
        "   - Start with `total = d1 + d2`.\n",
        "   - If `is_double(d1, d2)`, add 5.\n",
        "   - If `total == 7`, add 10.\n",
        "   - If `contains_six(d1, d2)`, add 2.\n",
        "2) Add a clear docstring explaining inputs, output, and rules.\n",
        "3) Write 5-6 small assertion tests that cover: doubles, seven, six, combinations, and a normal roll.\n",
        "4) Print a few example scores with formatted strings for readability.\n"
      ]
    },
    {
      "cell_type": "code",
      "execution_count": null,
      "metadata": {},
      "outputs": [],
      "source": [
        "# Your code here\n"
      ]
    },
    {
      "cell_type": "markdown",
      "metadata": {},
      "source": [
        "### Step 3 — One Round (Loops, Dicts, F-strings)\n",
        "\n",
        "Instructions\n",
        "1) Write a function `play_round(player_name)` that:\n",
        "   - Rolls two dice for the given player\n",
        "   - Returns a dict with keys: `\"player\"`, `\"d1\"`, `\"d2\"`, `\"score\"`\n",
        "2) In a loop, simulate one round for each player and collect both dicts in a list.\n",
        "3) Print a friendly summary like: `Alice rolled 3 and 5 for 8 points`.\n",
        "4) Add at least one formatted string using alignment or numeric formatting.\n"
      ]
    },
    {
      "cell_type": "code",
      "execution_count": null,
      "metadata": {},
      "outputs": [],
      "source": [
        "# Your code here\n"
      ]
    },
    {
      "cell_type": "markdown",
      "metadata": {},
      "source": [
        "### Step 4 — One Match (Ranges, Lists, Aggregation)\n",
        "\n",
        "Instructions\n",
        "1) Write a function `play_match(players, rounds)` that:\n",
        "   - Accepts a tuple/list of two player names and an integer number of rounds\n",
        "   - Simulates `rounds` rounds, calling your round logic each time\n",
        "   - Returns a list of per-round results, and a dict of total scores per player\n",
        "2) Use a list to collect each round's result. Update totals in a dict.\n",
        "3) Print a final match summary and declare the winner or a tie.\n"
      ]
    },
    {
      "cell_type": "markdown",
      "metadata": {},
      "source": [
        "# Your code here\n"
      ]
    },
    {
      "cell_type": "markdown",
      "metadata": {},
      "source": [
        "### Step 5 — Tournament (Nested Loops, Dicts of Lists)\n",
        "\n",
        "Instructions\n",
        "1) Write a function `play_tournament(players, matches, rounds)` that:\n",
        "   - Runs `matches` matches, each with `rounds` rounds\n",
        "   - Stores match summaries in a list, and cumulative totals across all matches in a dict\n",
        "   - Returns a dict like: `{ 'matches': [...], 'totals': {'Alice': X, 'Bob': Y} }`\n",
        "2) After running, print the tournament champion and the margin of victory (or print a tie).\n",
        "3) Use a comprehension at least once, e.g., to extract all round scores for a player.\n"
      ]
    },
    {
      "cell_type": "markdown",
      "metadata": {},
      "source": [
        "# Your code here\n"
      ]
    },
    {
      "cell_type": "markdown",
      "metadata": {},
      "source": [
        "### Step 6 — Light Stats (Mean, Max, Counts)\n",
        "\n",
        "Instructions\n",
        "1) Compute basic statistics across the whole tournament:\n",
        "   - Average score per round for each player\n",
        "   - Highest single-round score and which player achieved it\n",
        "   - Count of doubles, count of lucky sevens\n",
        "2) Use built-in functions (`sum`, `len`, `max`) and simple loops or comprehensions.\n",
        "3) Print the results in a concise table-like format using string formatting.\n"
      ]
    },
    {
      "cell_type": "markdown",
      "metadata": {},
      "source": [
        "# Your code here\n"
      ]
    },
    {
      "cell_type": "markdown",
      "metadata": {},
      "source": [
        "### Step 7 — Strings and Regex (Names, Validation)\n",
        "\n",
        "Instructions\n",
        "1) Prompt for player names via input and clean them:\n",
        "   - Strip whitespace, title-case them\n",
        "   - Validate that names contain only letters and optional spaces or hyphens\n",
        "2) Use a basic regex to validate names. If invalid, fall back to default names.\n",
        "3) Ensure the rest of your code uses these cleaned names.\n"
      ]
    },
    {
      "cell_type": "markdown",
      "metadata": {},
      "source": [
        "# Your code here\n"
      ]
    },
    {
      "cell_type": "markdown",
      "metadata": {},
      "source": [
        "### Step 8 — Errors and Exception Handling\n",
        "\n",
        "Instructions\n",
        "1) Wrap your input parsing and tournament driver code with `try`/`except` blocks to handle:\n",
        "   - Non-integer inputs for rounds/matches\n",
        "   - KeyboardInterrupt gracefully\n",
        "2) Raise `ValueError` with a helpful message if rounds or matches are not positive.\n",
        "3) In `except` blocks, print clear guidance and continue with safe defaults.\n"
      ]
    },
    {
      "cell_type": "markdown",
      "metadata": {},
      "source": [
        "# Your code here\n"
      ]
    },
    {
      "cell_type": "markdown",
      "metadata": {},
      "source": [
        "### Step 9 — Iterators and Generators (Light)\n",
        "\n",
        "Instructions\n",
        "1) Write a simple generator `roll_stream(n)` that yields `n` pairs of dice rolls.\n",
        "2) Replace a loop in your earlier code to consume this generator instead of calling the roll function repeatedly.\n",
        "3) Optionally, write a generator that yields only the scores for a player across a match and use it for computing the mean.\n"
      ]
    },
    {
      "cell_type": "markdown",
      "metadata": {},
      "source": [
        "# Your code here\n"
      ]
    },
    {
      "cell_type": "markdown",
      "metadata": {},
      "source": [
        "### Step 10 — Final Report (Printing, Formatting)\n",
        "\n",
        "Instructions\n",
        "1) Print a concise final report with:\n",
        "   - Winner and total scores\n",
        "   - Per-match winners\n",
        "   - Stats from Step 6\n",
        "2) Use f-strings and alignment to make columns readable.\n",
        "3) Keep the output under ~20 lines.\n"
      ]
    },
    {
      "cell_type": "markdown",
      "metadata": {},
      "source": [
        "# Your code here\n"
      ]
    }
  ],
  "metadata": {
    "kernelspec": {
      "display_name": "py_latest",
      "language": "python",
      "name": "python3"
    },
    "language_info": {
      "name": "python",
      "version": "3.13.2"
    }
  },
  "nbformat": 4,
  "nbformat_minor": 2
}
